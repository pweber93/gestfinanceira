{
 "cells": [
  {
   "cell_type": "code",
   "execution_count": null,
   "id": "f8c1cd5a",
   "metadata": {
    "scrolled": false
   },
   "outputs": [],
   "source": [
    "## PROJETO GESTÃO FINANCEIRA ##\n"
   ]
  },
  {
   "cell_type": "code",
   "execution_count": 4,
   "id": "ccf76edb",
   "metadata": {
    "scrolled": true
   },
   "outputs": [
    {
     "name": "stdout",
     "output_type": "stream",
     "text": [
      "Selecione a opção:\n",
      "1. Adicionar receita\n",
      "2. Adicionar despesa\n",
      "3. Ver saldo atual\n",
      "4. Ver saldo do dia\n",
      "5. Sair\n",
      "Opção selecionada: 5\n",
      "Saindo...\n"
     ]
    }
   ],
   "source": [
    "import sqlite3\n",
    "import datetime\n",
    "\n",
    "# Cria ou abre a conexão com o banco de dados\n",
    "conn = sqlite3.connect('financas2.db')\n",
    "\n",
    "# Cria a tabela se ela não existir\n",
    "conn.execute('''CREATE TABLE IF NOT EXISTS financeiro\n",
    "             (id INTEGER PRIMARY KEY AUTOINCREMENT,\n",
    "             tipo TEXT NOT NULL,\n",
    "             valor REAL NOT NULL,\n",
    "             data_transacao DATE NOT NULL);''')\n",
    "\n",
    "# Inicia o saldo em zero\n",
    "saldo = 0\n",
    "\n",
    "while True:\n",
    "    print(\"Selecione a opção:\")\n",
    "    print(\"1. Adicionar receita\")\n",
    "    print(\"2. Adicionar despesa\")\n",
    "    print(\"3. Ver saldo atual\")\n",
    "    print(\"4. Ver saldo do dia\")\n",
    "    print(\"5. Sair\")\n",
    "\n",
    "    opcao = int(input(\"Opção selecionada: \"))\n",
    "\n",
    "    if opcao == 1:\n",
    "        receita = float(input(\"Digite o valor da receita: \"))\n",
    "        data_atual = datetime.date.today()\n",
    "        conn.execute(\"INSERT INTO financeiro (tipo, valor, data_transacao) VALUES (?, ?, ?)\", (\"receita\", receita, data_atual))\n",
    "        saldo += receita\n",
    "        print(\"Receita adicionada com sucesso!\")\n",
    "\n",
    "    elif opcao == 2:\n",
    "        despesa = float(input(\"Digite o valor da despesa: \"))\n",
    "        data_atual = datetime.date.today()\n",
    "        conn.execute(\"INSERT INTO financeiro (tipo, valor, data_transacao) VALUES (?, ?, ?)\", (\"despesa\", despesa, data_atual))\n",
    "        saldo -= despesa\n",
    "        print(\"Despesa adicionada com sucesso!\")\n",
    "\n",
    "    elif opcao == 3:\n",
    "        print(\"Saldo atual: R$\", saldo)\n",
    "\n",
    "    elif opcao == 4:\n",
    "        data_atual = datetime.date.today()\n",
    "        query = \"SELECT SUM(valor) FROM financeiro WHERE tipo = ? AND data_transacao = ?\"\n",
    "        receita_query = conn.execute(query, (\"receita\", data_atual)).fetchone()[0] or 0\n",
    "        despesa_query = conn.execute(query, (\"despesa\", data_atual)).fetchone()[0] or 0\n",
    "        saldo_do_dia = receita_query - despesa_query\n",
    "        print(f\"Saldo do dia ({data_atual}): R$\", saldo_do_dia)\n",
    "\n",
    "    elif opcao == 5:\n",
    "        print(\"Saindo...\")\n",
    "        break\n",
    "\n",
    "    else:\n",
    "        print(\"Opção inválida!\")\n",
    "\n",
    "# Salva as alterações no banco de dados e fecha a conexão\n",
    "conn.commit()\n",
    "conn.close()\n"
   ]
  },
  {
   "cell_type": "code",
   "execution_count": 5,
   "id": "c9626572",
   "metadata": {},
   "outputs": [
    {
     "name": "stdout",
     "output_type": "stream",
     "text": [
      "Empty DataFrame\n",
      "Columns: [id, tipo, valor, data_transacao]\n",
      "Index: []\n"
     ]
    }
   ],
   "source": [
    "# CONSULTA TABELA #\n",
    "\n",
    "import pandas as pd\n",
    "import sqlite3\n",
    "\n",
    "# Cria uma conexão com o banco de dados\n",
    "conn = sqlite3.connect('financas2.db')\n",
    "\n",
    "# Executa uma consulta SQL para selecionar todas as linhas da tabela\n",
    "query = \"SELECT * FROM financeiro\"\n",
    "\n",
    "# Carrega os resultados da consulta em um objeto DataFrame\n",
    "financas2 = pd.read_sql_query(query, conn)\n",
    "\n",
    "# Exibe o DataFrame\n",
    "print(financas2)\n",
    "\n",
    "# Fecha a conexão com o banco de dados\n",
    "conn.close()\n"
   ]
  },
  {
   "cell_type": "code",
   "execution_count": null,
   "id": "26ea87ad",
   "metadata": {},
   "outputs": [],
   "source": []
  }
 ],
 "metadata": {
  "kernelspec": {
   "display_name": "Python 3 (ipykernel)",
   "language": "python",
   "name": "python3"
  },
  "language_info": {
   "codemirror_mode": {
    "name": "ipython",
    "version": 3
   },
   "file_extension": ".py",
   "mimetype": "text/x-python",
   "name": "python",
   "nbconvert_exporter": "python",
   "pygments_lexer": "ipython3",
   "version": "3.9.13"
  }
 },
 "nbformat": 4,
 "nbformat_minor": 5
}
